{
 "cells": [
  {
   "cell_type": "markdown",
   "metadata": {},
   "source": [
    "# Estudo da associação entre a declaração de raça e acesso à educação superior a partir dos resultados da PNAD Contínua (painel 6)"
   ]
  },
  {
   "cell_type": "markdown",
   "metadata": {},
   "source": [
    "[Marcelo Pereira](https://github.com/tbmpereira), outubro de 2020"
   ]
  },
  {
   "cell_type": "markdown",
   "metadata": {},
   "source": [
    "O presente estudo faz parte do artigo entregue para conclusão da disciplina \"Sociologia das Desigualdades e da Estratificação\", do Programa de Pós-Graduação em Sociologia da Universidade Federal de Minas Gerais, cursada por mim no primeiro semestre de 2020."
   ]
  },
  {
   "cell_type": "code",
   "execution_count": 1,
   "metadata": {},
   "outputs": [],
   "source": [
    "import pnadc\n",
    "import pandas as pd\n",
    "import numpy as np\n",
    "from scipy.stats import chi2_contingency\n",
    "from scipy.stats import chi2"
   ]
  },
  {
   "cell_type": "markdown",
   "metadata": {},
   "source": [
    "O [módulo pnadc](https://github.com/ppnasser/pnadc/), criado por Patrick Nasser, importa a rodada trimestral da PNADC e retorna um DataFrame do Pandas. Verificamos que o kernel do Python morre ao importar grandes séries temporais, por problema de memória RAM. Desta maneira, propomos importar cada rodada da PNAD separadamente, filtrar apenas as variáveis de interesse (características gerais do entrevistado e escolaridade), e exportar o 'csv', para posteriormente concatenar os dados."
   ]
  },
  {
   "cell_type": "code",
   "execution_count": 85,
   "metadata": {},
   "outputs": [],
   "source": [
    "#gerando tuplas para cada trimestre a ser importado\n",
    "trimestres = []\n",
    "for ano in range(2017, 2020):\n",
    "    for trimestre in range(1, 5):\n",
    "        trimestres.append((trimestre, ano))"
   ]
  },
  {
   "cell_type": "code",
   "execution_count": null,
   "metadata": {},
   "outputs": [],
   "source": [
    "#criando um laço para importar o dataset de cada trimestre, selecionar as variáveis de interesse e exportar num arquivo csv\n",
    "for tupla in trimestres:\n",
    "    df = pnadc.get(tupla[0], tupla[1])\n",
    "    df = df[['Ano', 'Trimestre', 'UF', 'Capital', 'RM_RIDE', 'UPA', 'Estrato', 'V1008', 'V1014', 'V1016', 'V1022', 'V1023', 'V1027', 'V1028', \n",
    "             'V1029', 'posest', 'V2001', 'V2003', 'V2005', 'V2007', 'V2008', 'V20081', 'V20082', 'V2009', 'V2010', 'V3001', 'V3002', 'V3002A', 'V3003', 'V3003A', 'V3007']]\n",
    "    df = pnadc.tools.identify(df)\n",
    "    df.to_csv('pnadc_{}-{}.csv'.format(tupla[1], tupla[0]), index=False)"
   ]
  },
  {
   "cell_type": "code",
   "execution_count": null,
   "metadata": {},
   "outputs": [],
   "source": [
    "#concatenar todos os datasets\n",
    "arquivos = ['pnadc_{}-{}.csv'.format(tupla[1], tupla[0]) for tupla in trimestres]\n",
    "pnadcs = pd.concat([pd.read_csv(arquivo) for arquivo in arquivos])"
   ]
  },
  {
   "cell_type": "code",
   "execution_count": null,
   "metadata": {},
   "outputs": [],
   "source": [
    "#alterar o tipo das variáveis para salvar memória\n",
    "for var in pnadcs.columns[:-3]:\n",
    "    try:\n",
    "        pnadcs[var] = pnadcs[var].astype('int32')\n",
    "    except:\n",
    "        pnadcs[var] = pnadcs[var].astype('float32')"
   ]
  },
  {
   "cell_type": "code",
   "execution_count": null,
   "metadata": {},
   "outputs": [],
   "source": [
    "#exportando o dataset concatenado\n",
    "pnadcs.to_csv('pnadc_2017-2019.csv', index=False)"
   ]
  },
  {
   "cell_type": "code",
   "execution_count": null,
   "metadata": {},
   "outputs": [],
   "source": [
    "df_chunck = pd.read_csv('pnadc_2017-2019.csv', index_col=False, chunksize=500000)"
   ]
  },
  {
   "cell_type": "code",
   "execution_count": null,
   "metadata": {},
   "outputs": [],
   "source": [
    "def chunk_processing(chunk):\n",
    "    for var in chunk.columns:\n",
    "        try:\n",
    "            chunk[var] = chunk[var].astype('int32')\n",
    "        except:\n",
    "            try:\n",
    "                chunk[var] = chunk[var].astype('float32')\n",
    "            except:\n",
    "                continue\n",
    "    return chunk\n",
    "\n",
    "chunk_list = []\n",
    "\n",
    "for chunk in df_chunck:\n",
    "    chunk_filtered = chunk_processing(chunk)\n",
    "    chunk_list.append(chunk)\n",
    "\n",
    "painel6 = pd.concat(chunk_list)"
   ]
  },
  {
   "cell_type": "markdown",
   "metadata": {},
   "source": [
    "Filtros: Ignorar registros de data de nascimento '9999', Apenas painel 6, descartar variável 'keyDorm'"
   ]
  },
  {
   "cell_type": "code",
   "execution_count": null,
   "metadata": {},
   "outputs": [],
   "source": [
    "painel6.drop('keyDom', axis=1, inplace=True)"
   ]
  },
  {
   "cell_type": "code",
   "execution_count": null,
   "metadata": {},
   "outputs": [],
   "source": [
    "painel6 = painel6[painel6.V1014 == 6]"
   ]
  },
  {
   "cell_type": "code",
   "execution_count": null,
   "metadata": {},
   "outputs": [],
   "source": [
    "painel6 = painel6[painel6.V20082 != 9999]"
   ]
  },
  {
   "cell_type": "code",
   "execution_count": null,
   "metadata": {},
   "outputs": [],
   "source": [
    "painel6.to_csv('painel6.csv')"
   ]
  },
  {
   "cell_type": "markdown",
   "metadata": {},
   "source": [
    "Filtrar, de acordo com o algoritmo proposto por [Ribas e Soares (2008)](https://www.ipea.gov.br/portal/index.php?option=com_content&view=article&id=4605), indivíduos (variável keyIden) que tenha data de nascimento e sexo iguais (variáveis V2007, V2008, V20081 e V20082)"
   ]
  },
  {
   "cell_type": "code",
   "execution_count": null,
   "metadata": {},
   "outputs": [],
   "source": [
    "painel6 = pd.read_csv('painel6.csv')"
   ]
  },
  {
   "cell_type": "code",
   "execution_count": null,
   "metadata": {},
   "outputs": [],
   "source": [
    "check_V20007 = painel6.groupby('keyInd').V2007.nunique().eq(1)\n",
    "check_V20008 = painel6.groupby('keyInd').V2008.nunique().eq(1)\n",
    "check_V200081 = painel6.groupby('keyInd').V20081.nunique().eq(1)\n",
    "check_V200082 = painel6.groupby('keyInd').V20082.nunique().eq(1)"
   ]
  },
  {
   "cell_type": "code",
   "execution_count": null,
   "metadata": {},
   "outputs": [],
   "source": [
    "keyInd = painel6.keyInd.unique()"
   ]
  },
  {
   "cell_type": "code",
   "execution_count": null,
   "metadata": {},
   "outputs": [],
   "source": [
    "keyInd_V2007 = keyInd[check_V20007.values]\n",
    "keyInd_V2008 = keyInd[check_V20008.values]\n",
    "keyInd_V20081 = keyInd[check_V200081.values]\n",
    "keyInd_V20082 = keyInd[check_V200082.values]"
   ]
  },
  {
   "cell_type": "code",
   "execution_count": null,
   "metadata": {},
   "outputs": [],
   "source": [
    "intersect = np.intersect1d(keyInd_V2007, keyInd_V2008)\n",
    "intersect = np.intersect1d(intersect, keyInd_V20081)\n",
    "intersect = np.intersect1d(intersect, keyInd_V20082)"
   ]
  },
  {
   "cell_type": "code",
   "execution_count": null,
   "metadata": {},
   "outputs": [],
   "source": [
    "mask = painel6.keyInd.isin(intersect)"
   ]
  },
  {
   "cell_type": "code",
   "execution_count": null,
   "metadata": {},
   "outputs": [],
   "source": [
    "painel6_filtrado = painel6[mask]"
   ]
  },
  {
   "cell_type": "code",
   "execution_count": null,
   "metadata": {},
   "outputs": [],
   "source": [
    "painel6_filtrado.to_csv('painel6_filtrado.csv', index=False)"
   ]
  },
  {
   "cell_type": "code",
   "execution_count": 2,
   "metadata": {},
   "outputs": [],
   "source": [
    "painel6_filtrado = pd.read_csv('painel6_filtrado.csv', index_col=False)"
   ]
  },
  {
   "cell_type": "markdown",
   "metadata": {},
   "source": [
    "Explorando os dados sobre declaração de cor ou raça"
   ]
  },
  {
   "cell_type": "code",
   "execution_count": 3,
   "metadata": {},
   "outputs": [],
   "source": [
    "# número expressivo de respondentes mudaram a declaração de cor ou raça\n",
    "mudou = painel6_filtrado[['keyInd', 'V2010']].groupby('keyInd').nunique().eq(1)"
   ]
  },
  {
   "cell_type": "code",
   "execution_count": null,
   "metadata": {},
   "outputs": [],
   "source": [
    "lista_mudou = painel6_filtrado.keyInd.unique()[mudou.V2010.values]\n",
    "mask_mudou = painel6_filtrado.keyInd.isin(lista_mudou)\n",
    "painel6_mudou = painel6_filtrado[~mask_mudou]"
   ]
  },
  {
   "cell_type": "markdown",
   "metadata": {},
   "source": [
    "True = não mudou; False = mudou a declaração de cor ou raça em ao menos uma das rodadas do painel"
   ]
  },
  {
   "cell_type": "code",
   "execution_count": 5,
   "metadata": {},
   "outputs": [
    {
     "data": {
      "text/html": [
       "<div>\n",
       "<style scoped>\n",
       "    .dataframe tbody tr th:only-of-type {\n",
       "        vertical-align: middle;\n",
       "    }\n",
       "\n",
       "    .dataframe tbody tr th {\n",
       "        vertical-align: top;\n",
       "    }\n",
       "\n",
       "    .dataframe thead th {\n",
       "        text-align: right;\n",
       "    }\n",
       "</style>\n",
       "<table border=\"1\" class=\"dataframe\">\n",
       "  <thead>\n",
       "    <tr style=\"text-align: right;\">\n",
       "      <th></th>\n",
       "      <th>valor</th>\n",
       "      <th>percent</th>\n",
       "    </tr>\n",
       "    <tr>\n",
       "      <th>V2010</th>\n",
       "      <th></th>\n",
       "      <th></th>\n",
       "    </tr>\n",
       "  </thead>\n",
       "  <tbody>\n",
       "    <tr>\n",
       "      <th>True</th>\n",
       "      <td>350038</td>\n",
       "      <td>0.685894</td>\n",
       "    </tr>\n",
       "    <tr>\n",
       "      <th>False</th>\n",
       "      <td>160300</td>\n",
       "      <td>0.314106</td>\n",
       "    </tr>\n",
       "  </tbody>\n",
       "</table>\n",
       "</div>"
      ],
      "text/plain": [
       "        valor   percent\n",
       "V2010                  \n",
       "True   350038  0.685894\n",
       "False  160300  0.314106"
      ]
     },
     "execution_count": 5,
     "metadata": {},
     "output_type": "execute_result"
    }
   ],
   "source": [
    "df_mudou = pd.DataFrame(mudou.value_counts())\n",
    "df_mudou.columns = ['valor']\n",
    "mudou_percent = df_mudou.values / painel6_filtrado.keyInd.nunique()\n",
    "df_mudou['percent'] = mudou_percent\n",
    "df_mudou"
   ]
  },
  {
   "cell_type": "markdown",
   "metadata": {},
   "source": [
    "Vamos criar lista com as observações da variável \"cor ou raça\" V2010 e filtrar apenas os indivíduos com 5 observações (participaram das 5 rodadas da PNAD Contínua painel 6)"
   ]
  },
  {
   "cell_type": "code",
   "execution_count": 6,
   "metadata": {},
   "outputs": [],
   "source": [
    "def cria_lista(s):\n",
    "    return s.to_list()\n",
    "tipos_mudanca = painel6_mudou.groupby('keyInd').V2010.apply(cria_lista)"
   ]
  },
  {
   "cell_type": "code",
   "execution_count": 7,
   "metadata": {},
   "outputs": [],
   "source": [
    "tipos_mudanca = tipos_mudanca[tipos_mudanca.map(len) == 5]"
   ]
  },
  {
   "cell_type": "code",
   "execution_count": 86,
   "metadata": {},
   "outputs": [
    {
     "ename": "TypeError",
     "evalue": "unhashable type: 'list'",
     "output_type": "error",
     "traceback": [
      "\u001b[0;31m---------------------------------------------------------------------------\u001b[0m",
      "\u001b[0;31mTypeError\u001b[0m                                 Traceback (most recent call last)",
      "\u001b[0;32mpandas/_libs/hashtable_class_helper.pxi\u001b[0m in \u001b[0;36mpandas._libs.hashtable.PyObjectHashTable.map_locations\u001b[0;34m()\u001b[0m\n",
      "\u001b[0;31mTypeError\u001b[0m: unhashable type: 'list'"
     ]
    },
    {
     "name": "stderr",
     "output_type": "stream",
     "text": [
      "Exception ignored in: 'pandas._libs.index.IndexEngine._call_map_locations'\n",
      "Traceback (most recent call last):\n",
      "  File \"pandas/_libs/hashtable_class_helper.pxi\", line 1709, in pandas._libs.hashtable.PyObjectHashTable.map_locations\n",
      "TypeError: unhashable type: 'list'\n"
     ]
    },
    {
     "data": {
      "text/plain": [
       "[1, 4, 4, 4, 4]    6117\n",
       "[4, 1, 4, 4, 4]    5128\n",
       "[1, 1, 1, 1, 4]    4988\n",
       "[4, 4, 4, 4, 1]    4758\n",
       "[4, 1, 1, 1, 1]    4673\n",
       "[4, 4, 1, 4, 4]    4535\n",
       "[4, 4, 4, 1, 4]    4210\n",
       "[1, 4, 1, 1, 1]    4009\n",
       "[1, 1, 4, 1, 1]    3928\n",
       "[1, 1, 1, 4, 1]    3844\n",
       "[2, 4, 4, 4, 4]    3595\n",
       "[4, 4, 4, 4, 2]    3150\n",
       "[4, 2, 4, 4, 4]    2774\n",
       "[1, 1, 4, 4, 4]    2710\n",
       "[4, 4, 4, 2, 4]    2676\n",
       "[4, 4, 2, 4, 4]    2601\n",
       "[1, 1, 1, 4, 4]    2492\n",
       "[4, 4, 1, 1, 1]    2140\n",
       "[4, 4, 4, 1, 1]    2135\n",
       "[4, 1, 1, 4, 4]    1654\n",
       "[1, 4, 1, 4, 4]    1558\n",
       "[1, 1, 4, 4, 1]    1514\n",
       "[1, 4, 4, 4, 1]    1465\n",
       "[1, 4, 4, 1, 1]    1462\n",
       "[4, 4, 1, 1, 4]    1441\n",
       "[1, 1, 4, 1, 4]    1432\n",
       "[4, 1, 1, 1, 4]    1412\n",
       "[4, 2, 2, 2, 2]    1350\n",
       "[4, 4, 1, 4, 1]    1305\n",
       "[1, 4, 4, 1, 4]    1296\n",
       "[1, 4, 1, 1, 4]    1276\n",
       "[4, 1, 4, 1, 1]    1250\n",
       "[4, 1, 4, 1, 4]    1233\n",
       "[4, 1, 4, 4, 1]    1210\n",
       "[2, 2, 2, 2, 4]    1202\n",
       "[2, 4, 2, 2, 2]    1173\n",
       "[1, 4, 1, 4, 1]    1145\n",
       "[4, 1, 1, 4, 1]    1135\n",
       "[4, 4, 4, 2, 2]    1063\n",
       "[2, 2, 4, 4, 4]    1054\n",
       "[2, 2, 2, 4, 2]     991\n",
       "[2, 2, 4, 2, 2]     971\n",
       "[4, 4, 2, 2, 2]     877\n",
       "[2, 2, 2, 4, 4]     761\n",
       "[2, 4, 2, 4, 4]     705\n",
       "[2, 4, 4, 4, 2]     700\n",
       "[4, 2, 2, 4, 4]     685\n",
       "[4, 4, 2, 2, 4]     681\n",
       "[2, 4, 4, 2, 4]     658\n",
       "[4, 4, 2, 4, 2]     650\n",
       "Name: V2010, dtype: int64"
      ]
     },
     "execution_count": 86,
     "metadata": {},
     "output_type": "execute_result"
    }
   ],
   "source": [
    "#mostrando os 50 primeiros maiores resultados que mostram a grande variedade de situações existentes\n",
    "tipos_mudanca.value_counts()[:50]"
   ]
  },
  {
   "cell_type": "markdown",
   "metadata": {},
   "source": [
    "Percebemos uma grande diversidade de situações, mas a maioria das observações são combinações da cor branca (1), parda (4) e preta (2). Dessa maneira, consideraremos a primeira e a última observação (declaração inicial e final). Será notável um grande peso do grupo \"outros\", que se dá em parte pelas pessoas que, apesar de terem alterado sua declaração de raça durante o painel, declaram a mesma raça na primeira e última rodada."
   ]
  },
  {
   "cell_type": "code",
   "execution_count": 9,
   "metadata": {},
   "outputs": [],
   "source": [
    "def como_mudou(a):\n",
    "    if a[0] == 1 and a[-1] == 4:\n",
    "        return 1\n",
    "    elif a[0] == 4 and a[-1] == 1:\n",
    "        return 2\n",
    "    elif a[0] == 2 and a[-1] == 4:\n",
    "        return 3\n",
    "    elif a[0] == 4 and a[-1] == 2:\n",
    "        return 4\n",
    "    elif a[0] == 1 and a[-1] == 2:\n",
    "        return 5\n",
    "    elif a[0] == 2 and a[-1] == 1:\n",
    "        return 6\n",
    "    else:\n",
    "        return 7"
   ]
  },
  {
   "cell_type": "markdown",
   "metadata": {},
   "source": [
    "legenda 1 = branco para pardo; 2 = pardo para branco; 3 = preto para pardo; 4 = pardo para preto; 5 = branco para preto; 6 = preto para branco; 7 = outros"
   ]
  },
  {
   "cell_type": "code",
   "execution_count": 10,
   "metadata": {},
   "outputs": [],
   "source": [
    "t = tipos_mudanca.apply(como_mudou).value_counts()"
   ]
  },
  {
   "cell_type": "code",
   "execution_count": 11,
   "metadata": {},
   "outputs": [
    {
     "data": {
      "text/plain": [
       "123360"
      ]
     },
     "execution_count": 11,
     "metadata": {},
     "output_type": "execute_result"
    }
   ],
   "source": [
    "#total de observações\n",
    "tipos_mudanca.shape[0]"
   ]
  },
  {
   "cell_type": "code",
   "execution_count": 12,
   "metadata": {},
   "outputs": [
    {
     "data": {
      "text/html": [
       "<div>\n",
       "<style scoped>\n",
       "    .dataframe tbody tr th:only-of-type {\n",
       "        vertical-align: middle;\n",
       "    }\n",
       "\n",
       "    .dataframe tbody tr th {\n",
       "        vertical-align: top;\n",
       "    }\n",
       "\n",
       "    .dataframe thead th {\n",
       "        text-align: right;\n",
       "    }\n",
       "</style>\n",
       "<table border=\"1\" class=\"dataframe\">\n",
       "  <thead>\n",
       "    <tr style=\"text-align: right;\">\n",
       "      <th></th>\n",
       "      <th>contagem</th>\n",
       "      <th>percentagem</th>\n",
       "    </tr>\n",
       "  </thead>\n",
       "  <tbody>\n",
       "    <tr>\n",
       "      <th>7</th>\n",
       "      <td>60751</td>\n",
       "      <td>0.492469</td>\n",
       "    </tr>\n",
       "    <tr>\n",
       "      <th>1</th>\n",
       "      <td>22733</td>\n",
       "      <td>0.184282</td>\n",
       "    </tr>\n",
       "    <tr>\n",
       "      <th>2</th>\n",
       "      <td>19347</td>\n",
       "      <td>0.156834</td>\n",
       "    </tr>\n",
       "    <tr>\n",
       "      <th>3</th>\n",
       "      <td>9644</td>\n",
       "      <td>0.078178</td>\n",
       "    </tr>\n",
       "    <tr>\n",
       "      <th>4</th>\n",
       "      <td>9212</td>\n",
       "      <td>0.074676</td>\n",
       "    </tr>\n",
       "    <tr>\n",
       "      <th>5</th>\n",
       "      <td>860</td>\n",
       "      <td>0.006971</td>\n",
       "    </tr>\n",
       "    <tr>\n",
       "      <th>6</th>\n",
       "      <td>813</td>\n",
       "      <td>0.006590</td>\n",
       "    </tr>\n",
       "  </tbody>\n",
       "</table>\n",
       "</div>"
      ],
      "text/plain": [
       "   contagem  percentagem\n",
       "7     60751     0.492469\n",
       "1     22733     0.184282\n",
       "2     19347     0.156834\n",
       "3      9644     0.078178\n",
       "4      9212     0.074676\n",
       "5       860     0.006971\n",
       "6       813     0.006590"
      ]
     },
     "execution_count": 12,
     "metadata": {},
     "output_type": "execute_result"
    }
   ],
   "source": [
    "pd.DataFrame({'contagem':t.values, 'percentagem':t.values / tipos_mudanca.shape[0]}, index=t.index)"
   ]
  },
  {
   "cell_type": "markdown",
   "metadata": {},
   "source": [
    "Selecionares o grupo de pessoas que na primeira rodada (2017/4) se declaravam brancas e que estão em idade de inserção no ensino superior (estipulamos entre 18 e 22 anos). Considerando este grupo, a variável \"ter mudado a declaração de cor para parda, preta ou indígena\" (variável independente) tem associação com a variável \"estar cursando curso no ensino superior\" (variável dependente)?"
   ]
  },
  {
   "cell_type": "markdown",
   "metadata": {},
   "source": [
    "Passo 1) Selecionar o grupo de pessoas que se declararam brancas em 2017/4 entre 18 e 22 anos"
   ]
  },
  {
   "cell_type": "code",
   "execution_count": 22,
   "metadata": {},
   "outputs": [],
   "source": [
    "selecao = painel6_filtrado[(painel6_filtrado.Ano == 2017) & (painel6_filtrado.V2010 == 1) \n",
    "                           & (painel6_filtrado.V2009 >= 18) & (painel6_filtrado.V2009 <= 22)].keyInd"
   ]
  },
  {
   "cell_type": "code",
   "execution_count": 25,
   "metadata": {},
   "outputs": [
    {
     "data": {
      "text/plain": [
       "23041"
      ]
     },
     "execution_count": 25,
     "metadata": {},
     "output_type": "execute_result"
    }
   ],
   "source": [
    "#total de observações encontradas\n",
    "selecao.shape[0]"
   ]
  },
  {
   "cell_type": "code",
   "execution_count": 28,
   "metadata": {},
   "outputs": [
    {
     "data": {
      "text/plain": [
       "510338"
      ]
     },
     "execution_count": 28,
     "metadata": {},
     "output_type": "execute_result"
    }
   ],
   "source": [
    "painel6_filtrado.keyInd.unique().shape[0]"
   ]
  },
  {
   "cell_type": "code",
   "execution_count": 26,
   "metadata": {},
   "outputs": [],
   "source": [
    "df_selecao = painel6_filtrado[painel6_filtrado.keyInd.isin(selecao)]"
   ]
  },
  {
   "cell_type": "code",
   "execution_count": 27,
   "metadata": {},
   "outputs": [
    {
     "data": {
      "text/plain": [
       "(53765, 32)"
      ]
     },
     "execution_count": 27,
     "metadata": {},
     "output_type": "execute_result"
    }
   ],
   "source": [
    "df_selecao.shape"
   ]
  },
  {
   "cell_type": "markdown",
   "metadata": {},
   "source": [
    "Passo 2) Criar as variáveis de interesse:"
   ]
  },
  {
   "cell_type": "code",
   "execution_count": 63,
   "metadata": {},
   "outputs": [
    {
     "data": {
      "text/plain": [
       "keyInd\n",
       "110000034.03.06.04.0     0\n",
       "110000584.08.06.03.0     1\n",
       "110000620.014.06.02.0    1\n",
       "110000932.014.06.03.0    1\n",
       "110001287.05.06.02.0     1\n",
       "                        ..\n",
       "530044198.07.06.02.0     1\n",
       "530044434.01.06.05.0     1\n",
       "530044434.012.06.06.0    1\n",
       "530044434.03.06.03.0     1\n",
       "530051067.09.06.02.0     1\n",
       "Name: V2010, Length: 12634, dtype: int64"
      ]
     },
     "execution_count": 63,
     "metadata": {},
     "output_type": "execute_result"
    }
   ],
   "source": [
    "mudou_cor = df_selecao.groupby('keyInd')['V2010'].nunique().eq(1).map({True:1, False:0})\n",
    "mudou_cor"
   ]
  },
  {
   "cell_type": "code",
   "execution_count": 72,
   "metadata": {},
   "outputs": [],
   "source": [
    "def ensino_superior(lista):\n",
    "    for item in lista:\n",
    "        if item >= 8:\n",
    "            return 1\n",
    "        return 0"
   ]
  },
  {
   "cell_type": "code",
   "execution_count": 74,
   "metadata": {},
   "outputs": [],
   "source": [
    "ensino_superior = df_selecao.groupby('keyInd').V3003A.apply(cria_lista).apply(ensino_superior)"
   ]
  },
  {
   "cell_type": "markdown",
   "metadata": {},
   "source": [
    "Passo 3) Criando tabela de contingência e aplicando o teste Qui Quadrado para testar se as variáveis são dependentes entre si"
   ]
  },
  {
   "cell_type": "code",
   "execution_count": 83,
   "metadata": {},
   "outputs": [
    {
     "data": {
      "text/html": [
       "<div>\n",
       "<style scoped>\n",
       "    .dataframe tbody tr th:only-of-type {\n",
       "        vertical-align: middle;\n",
       "    }\n",
       "\n",
       "    .dataframe tbody tr th {\n",
       "        vertical-align: top;\n",
       "    }\n",
       "\n",
       "    .dataframe thead th {\n",
       "        text-align: right;\n",
       "    }\n",
       "</style>\n",
       "<table border=\"1\" class=\"dataframe\">\n",
       "  <thead>\n",
       "    <tr style=\"text-align: right;\">\n",
       "      <th>V3003A</th>\n",
       "      <th>0</th>\n",
       "      <th>1</th>\n",
       "      <th>Total</th>\n",
       "    </tr>\n",
       "    <tr>\n",
       "      <th>V2010</th>\n",
       "      <th></th>\n",
       "      <th></th>\n",
       "      <th></th>\n",
       "    </tr>\n",
       "  </thead>\n",
       "  <tbody>\n",
       "    <tr>\n",
       "      <th>0</th>\n",
       "      <td>3963</td>\n",
       "      <td>1139</td>\n",
       "      <td>5102</td>\n",
       "    </tr>\n",
       "    <tr>\n",
       "      <th>1</th>\n",
       "      <td>5034</td>\n",
       "      <td>2498</td>\n",
       "      <td>7532</td>\n",
       "    </tr>\n",
       "    <tr>\n",
       "      <th>Total</th>\n",
       "      <td>8997</td>\n",
       "      <td>3637</td>\n",
       "      <td>12634</td>\n",
       "    </tr>\n",
       "  </tbody>\n",
       "</table>\n",
       "</div>"
      ],
      "text/plain": [
       "V3003A     0     1  Total\n",
       "V2010                    \n",
       "0       3963  1139   5102\n",
       "1       5034  2498   7532\n",
       "Total   8997  3637  12634"
      ]
     },
     "execution_count": 83,
     "metadata": {},
     "output_type": "execute_result"
    }
   ],
   "source": [
    "pd.crosstab(mudou_cor, ensino_superior, margins=True, margins_name='Total')"
   ]
  },
  {
   "cell_type": "code",
   "execution_count": 76,
   "metadata": {},
   "outputs": [],
   "source": [
    "crosstab = pd.crosstab(mudou_cor, ensino_superior)"
   ]
  },
  {
   "cell_type": "code",
   "execution_count": 77,
   "metadata": {},
   "outputs": [],
   "source": [
    "stat, p, dof, expected = chi2_contingency(crosstab)"
   ]
  },
  {
   "cell_type": "code",
   "execution_count": 78,
   "metadata": {},
   "outputs": [
    {
     "name": "stdout",
     "output_type": "stream",
     "text": [
      "[[3633.26689884 1468.73310116]\n",
      " [5363.73310116 2168.26689884]]\n"
     ]
    }
   ],
   "source": [
    "print(expected)"
   ]
  },
  {
   "cell_type": "code",
   "execution_count": 79,
   "metadata": {},
   "outputs": [
    {
     "name": "stdout",
     "output_type": "stream",
     "text": [
      "probability=0.995, critical=7.879, stat=173.835\n",
      "Dependent (reject H0)\n"
     ]
    }
   ],
   "source": [
    "prob = 0.995\n",
    "critical = chi2.ppf(prob, dof)\n",
    "print('probability=%.3f, critical=%.3f, stat=%.3f' % (prob, critical, stat))\n",
    "if abs(stat) >= critical:\n",
    "\tprint('Dependent (reject H0)')\n",
    "else:\n",
    "\tprint('Independent (fail to reject H0)')"
   ]
  },
  {
   "cell_type": "markdown",
   "metadata": {},
   "source": [
    "A hipótese nula (de que não há associação ou dependência entre as variáveis \"mudar a declaração de cor\" e \"acessar o ensino superior\") foi rejeitada."
   ]
  },
  {
   "cell_type": "code",
   "execution_count": null,
   "metadata": {},
   "outputs": [],
   "source": []
  }
 ],
 "metadata": {
  "gist": {
   "data": {
    "description": "Estudo da associação entre a declaração de raça e acesso à educação superior a partir dos resultados da PNAD Contínua (painel 6)",
    "public": true
   },
   "id": ""
  },
  "kernelspec": {
   "display_name": "Python 3",
   "language": "python",
   "name": "python3"
  },
  "language_info": {
   "codemirror_mode": {
    "name": "ipython",
    "version": 3
   },
   "file_extension": ".py",
   "mimetype": "text/x-python",
   "name": "python",
   "nbconvert_exporter": "python",
   "pygments_lexer": "ipython3",
   "version": "3.7.6"
  }
 },
 "nbformat": 4,
 "nbformat_minor": 4
}
